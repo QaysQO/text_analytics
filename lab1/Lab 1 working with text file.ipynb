{
 "cells": [
  {
   "cell_type": "code",
   "execution_count": 1,
   "id": "7ca65f92",
   "metadata": {},
   "outputs": [],
   "source": [
    "my_file = open('test.txt') \n"
   ]
  },
  {
   "cell_type": "code",
   "execution_count": 2,
   "id": "d245abe5",
   "metadata": {},
   "outputs": [
    {
     "data": {
      "text/plain": [
       "'Hello, this is a quick test file. \\nThis is the second line of the file. '"
      ]
     },
     "execution_count": 2,
     "metadata": {},
     "output_type": "execute_result"
    }
   ],
   "source": [
    "my_file.read() \n",
    "\n"
   ]
  },
  {
   "cell_type": "code",
   "execution_count": 3,
   "id": "f63807ef",
   "metadata": {},
   "outputs": [
    {
     "data": {
      "text/plain": [
       "0"
      ]
     },
     "execution_count": 3,
     "metadata": {},
     "output_type": "execute_result"
    }
   ],
   "source": [
    "my_file.seek(0) \n"
   ]
  },
  {
   "cell_type": "code",
   "execution_count": 4,
   "id": "4ca123d7",
   "metadata": {},
   "outputs": [
    {
     "data": {
      "text/plain": [
       "'Hello, this is a quick test file. \\nThis is the second line of the file. '"
      ]
     },
     "execution_count": 4,
     "metadata": {},
     "output_type": "execute_result"
    }
   ],
   "source": [
    "my_file.read()\n"
   ]
  },
  {
   "cell_type": "code",
   "execution_count": 5,
   "id": "68fac4cc",
   "metadata": {},
   "outputs": [
    {
     "data": {
      "text/plain": [
       "['Hello, this is a quick test file. \\n',\n",
       " 'This is the second line of the file. ']"
      ]
     },
     "execution_count": 5,
     "metadata": {},
     "output_type": "execute_result"
    }
   ],
   "source": [
    "my_file.seek(0) \n",
    "my_file.readlines() "
   ]
  },
  {
   "cell_type": "code",
   "execution_count": 6,
   "id": "2a13fcc9",
   "metadata": {},
   "outputs": [],
   "source": [
    "my_file.close() "
   ]
  },
  {
   "cell_type": "code",
   "execution_count": 7,
   "id": "ffc5d235",
   "metadata": {},
   "outputs": [],
   "source": [
    "my_file = open('test.txt','w+') "
   ]
  },
  {
   "cell_type": "code",
   "execution_count": 8,
   "id": "f884859a",
   "metadata": {},
   "outputs": [
    {
     "data": {
      "text/plain": [
       "24"
      ]
     },
     "execution_count": 8,
     "metadata": {},
     "output_type": "execute_result"
    }
   ],
   "source": [
    "my_file.write('This is a new first line') "
   ]
  },
  {
   "cell_type": "code",
   "execution_count": 9,
   "id": "ad764a7e",
   "metadata": {},
   "outputs": [
    {
     "data": {
      "text/plain": [
       "'This is a new first line'"
      ]
     },
     "execution_count": 9,
     "metadata": {},
     "output_type": "execute_result"
    }
   ],
   "source": [
    "my_file.seek(0) \n",
    "my_file.read()"
   ]
  },
  {
   "cell_type": "code",
   "execution_count": 10,
   "id": "da50a774",
   "metadata": {},
   "outputs": [],
   "source": [
    "my_file.close() "
   ]
  },
  {
   "cell_type": "code",
   "execution_count": 11,
   "id": "e55f439a",
   "metadata": {},
   "outputs": [
    {
     "data": {
      "text/plain": [
       "23"
      ]
     },
     "execution_count": 11,
     "metadata": {},
     "output_type": "execute_result"
    }
   ],
   "source": [
    "my_file = open('test.txt','a+') \n",
    "my_file.write('\\nThis line is being appended to test.txt') \n",
    "my_file.write('\\nAnd another line here.') "
   ]
  },
  {
   "cell_type": "code",
   "execution_count": 12,
   "id": "4b6e40e6",
   "metadata": {},
   "outputs": [
    {
     "name": "stdout",
     "output_type": "stream",
     "text": [
      "This is a new first line\n",
      "This line is being appended to test.txt\n",
      "And another line here.\n"
     ]
    }
   ],
   "source": [
    "my_file.seek(0) \n",
    "print(my_file.read()) "
   ]
  },
  {
   "cell_type": "code",
   "execution_count": 13,
   "id": "ce06cace",
   "metadata": {},
   "outputs": [],
   "source": [
    "my_file.close() "
   ]
  },
  {
   "cell_type": "code",
   "execution_count": 14,
   "id": "e6b70eea",
   "metadata": {},
   "outputs": [
    {
     "name": "stdout",
     "output_type": "stream",
     "text": [
      "This is a new first line\n",
      "This line is being appended to test.txt\n",
      "And another line here."
     ]
    }
   ],
   "source": [
    "with open('test.txt','r') as txt: \n",
    "    for line in txt: \n",
    "        print(line, end='') "
   ]
  },
  {
   "cell_type": "code",
   "execution_count": null,
   "id": "0acba051",
   "metadata": {},
   "outputs": [],
   "source": []
  }
 ],
 "metadata": {
  "kernelspec": {
   "display_name": "Python 3 (ipykernel)",
   "language": "python",
   "name": "python3"
  },
  "language_info": {
   "codemirror_mode": {
    "name": "ipython",
    "version": 3
   },
   "file_extension": ".py",
   "mimetype": "text/x-python",
   "name": "python",
   "nbconvert_exporter": "python",
   "pygments_lexer": "ipython3",
   "version": "3.11.5"
  }
 },
 "nbformat": 4,
 "nbformat_minor": 5
}
