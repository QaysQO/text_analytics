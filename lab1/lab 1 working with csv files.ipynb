{
 "cells": [
  {
   "cell_type": "code",
   "execution_count": 1,
   "id": "1cd56cf0",
   "metadata": {},
   "outputs": [
    {
     "ename": "IndentationError",
     "evalue": "expected an indented block after 'for' statement on line 18 (1785569566.py, line 20)",
     "output_type": "error",
     "traceback": [
      "\u001b[1;36m  Cell \u001b[1;32mIn[1], line 20\u001b[1;36m\u001b[0m\n\u001b[1;33m    list\u001b[0m\n\u001b[1;37m         ^\u001b[0m\n\u001b[1;31mIndentationError\u001b[0m\u001b[1;31m:\u001b[0m expected an indented block after 'for' statement on line 18\n"
     ]
    }
   ],
   "source": [
    "import csv \n",
    " \n",
    "# Define the CSV file name \n",
    "csv_file = 'sample_data.csv' \n",
    " \n",
    "# Define the output text file name \n",
    "output_file = 'comments.txt' \n",
    " \n",
    "# Open the CSV file for reading \n",
    "with open(csv_file, 'r', newline='') as csvfile: \n",
    "    # Create a CSV reader object \n",
    "    reader = csv.DictReader(csvfile) \n",
    "     \n",
    "    # Initialize a list to store the comments \n",
    "    comments = [] \n",
    "     \n",
    "    # Iterate over each row in the CSV file \n",
    "    for row in reader: \n",
    "        # Extract the 'comments' column value and add it to the \n",
    "list \n",
    "        comments.append(row['comments']) \n",
    " \n",
    "# Open the output text file for writing \n",
    "with open(output_file, 'w') as txtfile: \n",
    "    # Write each comment to the text file \n",
    "    for comment in comments: \n",
    "        txtfile.write(comment + '\\n') \n",
    " \n",
    "print(\"Comments extracted and saved to\", output_file) \n"
   ]
  },
  {
   "cell_type": "code",
   "execution_count": 2,
   "id": "52411135",
   "metadata": {},
   "outputs": [
    {
     "ename": "IndentationError",
     "evalue": "expected an indented block after 'for' statement on line 18 (3204368619.py, line 20)",
     "output_type": "error",
     "traceback": [
      "\u001b[1;36m  Cell \u001b[1;32mIn[2], line 20\u001b[1;36m\u001b[0m\n\u001b[1;33m    list\u001b[0m\n\u001b[1;37m         ^\u001b[0m\n\u001b[1;31mIndentationError\u001b[0m\u001b[1;31m:\u001b[0m expected an indented block after 'for' statement on line 18\n"
     ]
    }
   ],
   "source": [
    "import csv \n",
    " \n",
    "# Define the CSV file name \n",
    "csv_file = 'sample_data.csv' \n",
    " \n",
    "# Define the output text file name \n",
    "output_file = 'comments.txt' \n",
    " \n",
    "# Open the CSV file for reading \n",
    "with open(csv_file, 'r', newline='') as csvfile: \n",
    "    # Create a CSV reader object \n",
    "    reader = csv.DictReader(csvfile) \n",
    "     \n",
    "    # Initialize a list to store the comments \n",
    "    comments = [] \n",
    "     \n",
    "    # Iterate over each row in the CSV file \n",
    "    for row in reader: \n",
    "        # Extract the 'comments' column value and add it to the \n",
    "list \n",
    "        comments.append(row['comments']) \n",
    " \n",
    "# Open the output text file for writing \n",
    "with open(output_file, 'w') as txtfile: \n",
    "    # Write each comment to the text file \n",
    "    for comment in comments;\n",
    "        txtfile.write(comment + '\\n') \n",
    " \n",
    "print(\"Comments extracted and saved to\", output_file) \n"
   ]
  },
  {
   "cell_type": "code",
   "execution_count": 3,
   "id": "982c529e",
   "metadata": {},
   "outputs": [
    {
     "ename": "IndentationError",
     "evalue": "expected an indented block after 'for' statement on line 18 (2005980970.py, line 20)",
     "output_type": "error",
     "traceback": [
      "\u001b[1;36m  Cell \u001b[1;32mIn[3], line 20\u001b[1;36m\u001b[0m\n\u001b[1;33m    list\u001b[0m\n\u001b[1;37m         ^\u001b[0m\n\u001b[1;31mIndentationError\u001b[0m\u001b[1;31m:\u001b[0m expected an indented block after 'for' statement on line 18\n"
     ]
    }
   ],
   "source": [
    "import csv \n",
    " \n",
    "# Define the CSV file name \n",
    "csv_file = 'sample_data.csv' \n",
    " \n",
    "# Define the output text file name \n",
    "output_file = 'comments.txt' \n",
    " \n",
    "# Open the CSV file for reading \n",
    "with open(csv_file, 'r', newline='') as csvfile: \n",
    "    # Create a CSV reader object \n",
    "    reader = csv.DictReader(csvfile) \n",
    "     \n",
    "    # Initialize a list to store the comments \n",
    "    comments = [] \n",
    "     \n",
    "    # Iterate over each row in the CSV file \n",
    "    for row in reader: \n",
    "        # Extract the 'comments' column value and add it to the \n",
    "list \n",
    "        comments.append(row['comments']) \n",
    " \n",
    "# Open the output text file for writing \n",
    "with open(output_file, 'w') as txtfile: \n",
    "    # Write each comment to the text file \n",
    "    for comment in comments:\n",
    "        txtfile.write(comment + '\\n') \n",
    " \n",
    "print(\"Comments extracted and saved to\", output_file) \n"
   ]
  },
  {
   "cell_type": "code",
   "execution_count": null,
   "id": "a5e27841",
   "metadata": {},
   "outputs": [],
   "source": [
    "import csv \n",
    " \n",
    "# Define the CSV file name \n",
    "csv_file = 'sample_data.csv' \n",
    " \n",
    "# Define the output text file name \n",
    "output_file = 'comments.txt' \n",
    " \n",
    "# Open the CSV file for reading \n",
    "with open(csv_file, 'r', newline='') as csvfile: \n",
    "    # Create a CSV reader object \n",
    "    reader = csv.DictReader(csvfile) \n",
    "     \n",
    "    # Initialize a list to store the comments \n",
    "    comments = [] \n",
    "     \n",
    "    # Iterate over each row in the CSV file \n",
    "    for row in reader: \n",
    "        # Extract the 'comments' column value and add it to the \n",
    "list \n",
    "        comments.append(row['comments']) \n",
    " \n",
    "# Open the output text file for writing \n",
    "with open(output_file, 'w') as txtfile: \n",
    "    # Write each comment to the text file \n",
    "    for comment in comments: \n",
    "        txtfile.write(comment + '\\n') \n",
    " \n",
    "print(\"Comments extracted and saved to\", output_file) \n"
   ]
  }
 ],
 "metadata": {
  "kernelspec": {
   "display_name": "Python 3 (ipykernel)",
   "language": "python",
   "name": "python3"
  },
  "language_info": {
   "codemirror_mode": {
    "name": "ipython",
    "version": 3
   },
   "file_extension": ".py",
   "mimetype": "text/x-python",
   "name": "python",
   "nbconvert_exporter": "python",
   "pygments_lexer": "ipython3",
   "version": "3.11.5"
  }
 },
 "nbformat": 4,
 "nbformat_minor": 5
}
