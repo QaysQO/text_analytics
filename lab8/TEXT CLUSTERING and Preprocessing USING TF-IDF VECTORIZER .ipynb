{
 "cells": [
  {
   "cell_type": "code",
   "execution_count": 14,
   "id": "ac5a895a",
   "metadata": {},
   "outputs": [],
   "source": [
    "import numpy as np \n",
    "import string\n",
    "import pandas as pd\n",
    "from sklearn.cluster import KMeans \n",
    "from sklearn.feature_extraction.text import TfidfVectorizer \n",
    "from tabulate import tabulate \n",
    "from collections import Counter "
   ]
  },
  {
   "cell_type": "code",
   "execution_count": 15,
   "id": "beb804d5",
   "metadata": {},
   "outputs": [],
   "source": [
    "data = [\"I love playing football on the weekends\", \n",
    "           \"I enjoy hiking and camping in the mountains\", \n",
    "           \"I like to read books and watch movies\", \n",
    "           \"I prefer playing video games over sports\", \n",
    "           \"I love listening to music and going to concerts\"]"
   ]
  },
  {
   "cell_type": "code",
   "execution_count": 16,
   "id": "ec512756",
   "metadata": {},
   "outputs": [],
   "source": [
    "#defining the function to remove punctuations in the documents\n",
    "def remove_punctuation(text):\n",
    "    #punctuationfree = \"\".join([i for i in text if i not in string.punctuation])\n",
    "    #return punctuationfree\n",
    "    # Initialize an empty string to store the result\n",
    "    punctuation_free = \"\"\n",
    "    \n",
    "    # Iterate over each character in the text\n",
    "    for i in text:\n",
    "        # Check if the character is not in the string.punctuation set\n",
    "        if i not in string.punctuation:\n",
    "            # If not, add the character to the result string\n",
    "            punctuation_free += i\n",
    "    \n",
    "    return punctuation_free"
   ]
  },
  {
   "cell_type": "code",
   "execution_count": 18,
   "id": "5442553a",
   "metadata": {},
   "outputs": [
    {
     "name": "stdout",
     "output_type": "stream",
     "text": [
      "                                     Original Text  \\\n",
      "0          I love playing football on the weekends   \n",
      "1      I enjoy hiking and camping in the mountains   \n",
      "2            I like to read books and watch movies   \n",
      "3         I prefer playing video games over sports   \n",
      "4  I love listening to music and going to concerts   \n",
      "\n",
      "                          Text Without Punctuation  \\\n",
      "0          I love playing football on the weekends   \n",
      "1      I enjoy hiking and camping in the mountains   \n",
      "2            I like to read books and watch movies   \n",
      "3         I prefer playing video games over sports   \n",
      "4  I love listening to music and going to concerts   \n",
      "\n",
      "                                 Text in Lowercase  \n",
      "0          i love playing football on the weekends  \n",
      "1      i enjoy hiking and camping in the mountains  \n",
      "2            i like to read books and watch movies  \n",
      "3         i prefer playing video games over sports  \n",
      "4  i love listening to music and going to concerts  \n"
     ]
    }
   ],
   "source": [
    "# Applying the function to your data\n",
    "data_no_punctuation = [remove_punctuation(sentence) for sentence in data]\n",
    "data_lower = [sentence.lower() for sentence in data]\n",
    "\n",
    "\n",
    "# Creating a DataFrame to display the original and processed data in a table format\n",
    "df = pd.DataFrame({\n",
    "    'Original Text': data,\n",
    "    'Text Without Punctuation': data_no_punctuation,\n",
    "    'Text in Lowercase': data_lower\n",
    "})\n",
    "\n",
    "print(df)"
   ]
  },
  {
   "cell_type": "code",
   "execution_count": 19,
   "id": "9272f67b",
   "metadata": {},
   "outputs": [],
   "source": [
    "import re\n"
   ]
  },
  {
   "cell_type": "code",
   "execution_count": 20,
   "id": "ca54f228",
   "metadata": {},
   "outputs": [],
   "source": [
    "#function to remove digit (\\d) or hypens (-) from the documents with an empty string ''\n",
    "def remove_numbers(text):\n",
    "    return re.sub(\"[\\d-]\",'',text)"
   ]
  },
  {
   "cell_type": "code",
   "execution_count": 23,
   "id": "8db1c49e",
   "metadata": {},
   "outputs": [],
   "source": [
    "data_remove_number = [remove_numbers(sentence) for sentence in data]\n"
   ]
  },
  {
   "cell_type": "code",
   "execution_count": 26,
   "id": "252a60e9",
   "metadata": {},
   "outputs": [
    {
     "name": "stdout",
     "output_type": "stream",
     "text": [
      "                                     Original Text  \\\n",
      "0          I love playing football on the weekends   \n",
      "1      I enjoy hiking and camping in the mountains   \n",
      "2            I like to read books and watch movies   \n",
      "3         I prefer playing video games over sports   \n",
      "4  I love listening to music and going to concerts   \n",
      "\n",
      "                          Text Without Punctuation  \\\n",
      "0          I love playing football on the weekends   \n",
      "1      I enjoy hiking and camping in the mountains   \n",
      "2            I like to read books and watch movies   \n",
      "3         I prefer playing video games over sports   \n",
      "4  I love listening to music and going to concerts   \n",
      "\n",
      "                                 Text in Lowercase  \\\n",
      "0          i love playing football on the weekends   \n",
      "1      i enjoy hiking and camping in the mountains   \n",
      "2            i like to read books and watch movies   \n",
      "3         i prefer playing video games over sports   \n",
      "4  i love listening to music and going to concerts   \n",
      "\n",
      "                              Text without numbers  \n",
      "0          i love playing football on the weekends  \n",
      "1      i enjoy hiking and camping in the mountains  \n",
      "2            i like to read books and watch movies  \n",
      "3         i prefer playing video games over sports  \n",
      "4  i love listening to music and going to concerts  \n"
     ]
    }
   ],
   "source": [
    "# Apply the functions and convert to lowercase\n",
    "data_no_punctuation = [remove_punctuation(sentence) for sentence in data]\n",
    "data_lower = [sentence.lower() for sentence in data_no_punctuation]\n",
    "data_remove_number = [remove_numbers(sentence) for sentence in data_lower]\n",
    "\n",
    "# Create a DataFrame\n",
    "df = pd.DataFrame({\n",
    "    'Original Text': data,\n",
    "    'Text Without Punctuation': data_no_punctuation,\n",
    "    'Text in Lowercase': data_lower,\n",
    "    'Text without numbers': data_remove_number\n",
    "})\n",
    "\n",
    "print(df)"
   ]
  },
  {
   "cell_type": "code",
   "execution_count": 27,
   "id": "f2b9910c",
   "metadata": {},
   "outputs": [
    {
     "name": "stderr",
     "output_type": "stream",
     "text": [
      "[nltk_data] Downloading package punkt to\n",
      "[nltk_data]     C:\\Users\\ASUS\\AppData\\Roaming\\nltk_data...\n",
      "[nltk_data]   Package punkt is already up-to-date!\n"
     ]
    },
    {
     "data": {
      "text/plain": [
       "True"
      ]
     },
     "execution_count": 27,
     "metadata": {},
     "output_type": "execute_result"
    }
   ],
   "source": [
    "import nltk\n",
    "nltk.download('punkt')"
   ]
  },
  {
   "cell_type": "code",
   "execution_count": 28,
   "id": "d90fb93d",
   "metadata": {},
   "outputs": [],
   "source": [
    "from nltk.tokenize import word_tokenize"
   ]
  },
  {
   "cell_type": "code",
   "execution_count": 31,
   "id": "aac4cc24",
   "metadata": {},
   "outputs": [
    {
     "name": "stdout",
     "output_type": "stream",
     "text": [
      "                                     Original Text  \\\n",
      "0          I love playing football on the weekends   \n",
      "1      I enjoy hiking and camping in the mountains   \n",
      "2            I like to read books and watch movies   \n",
      "3         I prefer playing video games over sports   \n",
      "4  I love listening to music and going to concerts   \n",
      "\n",
      "                          Text Without Punctuation  \\\n",
      "0          I love playing football on the weekends   \n",
      "1      I enjoy hiking and camping in the mountains   \n",
      "2            I like to read books and watch movies   \n",
      "3         I prefer playing video games over sports   \n",
      "4  I love listening to music and going to concerts   \n",
      "\n",
      "                                 Text in Lowercase  \\\n",
      "0          i love playing football on the weekends   \n",
      "1      i enjoy hiking and camping in the mountains   \n",
      "2            i like to read books and watch movies   \n",
      "3         i prefer playing video games over sports   \n",
      "4  i love listening to music and going to concerts   \n",
      "\n",
      "                              Text without numbers  \\\n",
      "0          i love playing football on the weekends   \n",
      "1      i enjoy hiking and camping in the mountains   \n",
      "2            i like to read books and watch movies   \n",
      "3         i prefer playing video games over sports   \n",
      "4  i love listening to music and going to concerts   \n",
      "\n",
      "                                      Text tokenized  \n",
      "0    [i, love, playing, football, on, the, weekends]  \n",
      "1  [i, enjoy, hiking, and, camping, in, the, moun...  \n",
      "2     [i, like, to, read, books, and, watch, movies]  \n",
      "3   [i, prefer, playing, video, games, over, sports]  \n",
      "4  [i, love, listening, to, music, and, going, to...  \n"
     ]
    }
   ],
   "source": [
    "# Apply the functions and convert to lowercase\n",
    "data_no_punctuation = [remove_punctuation(sentence) for sentence in data]\n",
    "data_lower = [sentence.lower() for sentence in data_no_punctuation]\n",
    "data_remove_number = [remove_numbers(sentence) for sentence in data_lower]\n",
    "data_token = [word_tokenize(sentence) for sentence in data_remove_number]\n",
    "\n",
    "# Create a DataFrame\n",
    "df = pd.DataFrame({\n",
    "    'Original Text': data,\n",
    "    'Text Without Punctuation': data_no_punctuation,\n",
    "    'Text in Lowercase': data_lower,\n",
    "    'Text without numbers': data_remove_number,\n",
    "    'Text tokenized': data_token\n",
    "})\n",
    "\n",
    "print(df)"
   ]
  },
  {
   "cell_type": "code",
   "execution_count": 32,
   "id": "7eba7d24",
   "metadata": {},
   "outputs": [
    {
     "name": "stderr",
     "output_type": "stream",
     "text": [
      "[nltk_data] Downloading package stopwords to\n",
      "[nltk_data]     C:\\Users\\ASUS\\AppData\\Roaming\\nltk_data...\n",
      "[nltk_data]   Package stopwords is already up-to-date!\n"
     ]
    },
    {
     "data": {
      "text/plain": [
       "True"
      ]
     },
     "execution_count": 32,
     "metadata": {},
     "output_type": "execute_result"
    }
   ],
   "source": [
    "nltk.download('stopwords')"
   ]
  },
  {
   "cell_type": "code",
   "execution_count": 33,
   "id": "6b5b71fc",
   "metadata": {},
   "outputs": [],
   "source": [
    "stopwords = nltk.corpus.stopwords.words('english')"
   ]
  },
  {
   "cell_type": "code",
   "execution_count": 34,
   "id": "861afeff",
   "metadata": {},
   "outputs": [],
   "source": [
    "#defining the function to remove stopwords from tokenized text\n",
    "def remove_stopwords(text):\n",
    "    output = []\n",
    "    for i in text:\n",
    "        if i not in stopwords:\n",
    "            output.append(i)\n",
    "    return output"
   ]
  },
  {
   "cell_type": "code",
   "execution_count": 35,
   "id": "12c51eb3",
   "metadata": {},
   "outputs": [
    {
     "name": "stdout",
     "output_type": "stream",
     "text": [
      "                                     Original Text  \\\n",
      "0          I love playing football on the weekends   \n",
      "1      I enjoy hiking and camping in the mountains   \n",
      "2            I like to read books and watch movies   \n",
      "3         I prefer playing video games over sports   \n",
      "4  I love listening to music and going to concerts   \n",
      "\n",
      "                          Text Without Punctuation  \\\n",
      "0          I love playing football on the weekends   \n",
      "1      I enjoy hiking and camping in the mountains   \n",
      "2            I like to read books and watch movies   \n",
      "3         I prefer playing video games over sports   \n",
      "4  I love listening to music and going to concerts   \n",
      "\n",
      "                                 Text in Lowercase  \\\n",
      "0          i love playing football on the weekends   \n",
      "1      i enjoy hiking and camping in the mountains   \n",
      "2            i like to read books and watch movies   \n",
      "3         i prefer playing video games over sports   \n",
      "4  i love listening to music and going to concerts   \n",
      "\n",
      "                              Text without numbers  \\\n",
      "0          i love playing football on the weekends   \n",
      "1      i enjoy hiking and camping in the mountains   \n",
      "2            i like to read books and watch movies   \n",
      "3         i prefer playing video games over sports   \n",
      "4  i love listening to music and going to concerts   \n",
      "\n",
      "                                      Text tokenized  \\\n",
      "0    [i, love, playing, football, on, the, weekends]   \n",
      "1  [i, enjoy, hiking, and, camping, in, the, moun...   \n",
      "2     [i, like, to, read, books, and, watch, movies]   \n",
      "3   [i, prefer, playing, video, games, over, sports]   \n",
      "4  [i, love, listening, to, music, and, going, to...   \n",
      "\n",
      "                       Text without stopword  \n",
      "0        [love, playing, football, weekends]  \n",
      "1        [enjoy, hiking, camping, mountains]  \n",
      "2         [like, read, books, watch, movies]  \n",
      "3    [prefer, playing, video, games, sports]  \n",
      "4  [love, listening, music, going, concerts]  \n"
     ]
    }
   ],
   "source": [
    "# Apply the functions and convert to lowercase\n",
    "data_no_punctuation = [remove_punctuation(sentence) for sentence in data]\n",
    "data_lower = [sentence.lower() for sentence in data_no_punctuation]\n",
    "data_remove_number = [remove_numbers(sentence) for sentence in data_lower]\n",
    "data_token = [word_tokenize(sentence) for sentence in data_remove_number]\n",
    "data_remove_stopword = [remove_stopwords(sentence) for sentence in data_token]\n",
    "\n",
    "# Create a DataFrame\n",
    "df = pd.DataFrame({\n",
    "    'Original Text': data,\n",
    "    'Text Without Punctuation': data_no_punctuation,\n",
    "    'Text in Lowercase': data_lower,\n",
    "    'Text without numbers': data_remove_number,\n",
    "    'Text tokenized': data_token,\n",
    "    'Text without stopword': data_remove_stopword\n",
    "})\n",
    "\n",
    "print(df)"
   ]
  },
  {
   "cell_type": "code",
   "execution_count": 36,
   "id": "bf7b6838",
   "metadata": {},
   "outputs": [],
   "source": [
    "from nltk.stem.porter import PorterStemmer"
   ]
  },
  {
   "cell_type": "code",
   "execution_count": 37,
   "id": "114109be",
   "metadata": {},
   "outputs": [],
   "source": [
    "#defining the object for stemming\n",
    "porter_stemmer = PorterStemmer()"
   ]
  },
  {
   "cell_type": "code",
   "execution_count": 38,
   "id": "7ffaa750",
   "metadata": {},
   "outputs": [],
   "source": [
    "#defining a function for stemming\n",
    "def stemming(text):\n",
    "    stem_text = []\n",
    "    for word in text:\n",
    "        stemmed_word = porter_stemmer.stem(word)\n",
    "        stem_text.append(stemmed_word)\n",
    "    return stem_text"
   ]
  },
  {
   "cell_type": "code",
   "execution_count": 39,
   "id": "b54d461a",
   "metadata": {},
   "outputs": [
    {
     "name": "stdout",
     "output_type": "stream",
     "text": [
      "                                     Original Text  \\\n",
      "0          I love playing football on the weekends   \n",
      "1      I enjoy hiking and camping in the mountains   \n",
      "2            I like to read books and watch movies   \n",
      "3         I prefer playing video games over sports   \n",
      "4  I love listening to music and going to concerts   \n",
      "\n",
      "                          Text Without Punctuation  \\\n",
      "0          I love playing football on the weekends   \n",
      "1      I enjoy hiking and camping in the mountains   \n",
      "2            I like to read books and watch movies   \n",
      "3         I prefer playing video games over sports   \n",
      "4  I love listening to music and going to concerts   \n",
      "\n",
      "                                 Text in Lowercase  \\\n",
      "0          i love playing football on the weekends   \n",
      "1      i enjoy hiking and camping in the mountains   \n",
      "2            i like to read books and watch movies   \n",
      "3         i prefer playing video games over sports   \n",
      "4  i love listening to music and going to concerts   \n",
      "\n",
      "                              Text without numbers  \\\n",
      "0          i love playing football on the weekends   \n",
      "1      i enjoy hiking and camping in the mountains   \n",
      "2            i like to read books and watch movies   \n",
      "3         i prefer playing video games over sports   \n",
      "4  i love listening to music and going to concerts   \n",
      "\n",
      "                                      Text tokenized  \\\n",
      "0    [i, love, playing, football, on, the, weekends]   \n",
      "1  [i, enjoy, hiking, and, camping, in, the, moun...   \n",
      "2     [i, like, to, read, books, and, watch, movies]   \n",
      "3   [i, prefer, playing, video, games, over, sports]   \n",
      "4  [i, love, listening, to, music, and, going, to...   \n",
      "\n",
      "                       Text without stopword  \\\n",
      "0        [love, playing, football, weekends]   \n",
      "1        [enjoy, hiking, camping, mountains]   \n",
      "2         [like, read, books, watch, movies]   \n",
      "3    [prefer, playing, video, games, sports]   \n",
      "4  [love, listening, music, going, concerts]   \n",
      "\n",
      "                            Text Stem  \n",
      "0      [love, play, footbal, weekend]  \n",
      "1       [enjoy, hike, camp, mountain]  \n",
      "2     [like, read, book, watch, movi]  \n",
      "3  [prefer, play, video, game, sport]  \n",
      "4  [love, listen, music, go, concert]  \n"
     ]
    }
   ],
   "source": [
    "# Apply the functions and convert to lowercase\n",
    "data_no_punctuation = [remove_punctuation(sentence) for sentence in data]\n",
    "data_lower = [sentence.lower() for sentence in data_no_punctuation]\n",
    "data_remove_number = [remove_numbers(sentence) for sentence in data_lower]\n",
    "data_token = [word_tokenize(sentence) for sentence in data_remove_number]\n",
    "data_remove_stopword = [remove_stopwords(sentence) for sentence in data_token]\n",
    "data_stem = [stemming(sentence) for sentence in data_remove_stopword]\n",
    "\n",
    "# Create a DataFrame\n",
    "df = pd.DataFrame({\n",
    "    'Original Text': data,\n",
    "    'Text Without Punctuation': data_no_punctuation,\n",
    "    'Text in Lowercase': data_lower,\n",
    "    'Text without numbers': data_remove_number,\n",
    "    'Text tokenized': data_token,\n",
    "    'Text without stopword': data_remove_stopword,\n",
    "    'Text Stem': data_stem\n",
    "})\n",
    "\n",
    "print(df)"
   ]
  },
  {
   "cell_type": "code",
   "execution_count": 40,
   "id": "61f95a30",
   "metadata": {},
   "outputs": [
    {
     "name": "stderr",
     "output_type": "stream",
     "text": [
      "[nltk_data] Downloading package wordnet to\n",
      "[nltk_data]     C:\\Users\\ASUS\\AppData\\Roaming\\nltk_data...\n",
      "[nltk_data]   Package wordnet is already up-to-date!\n"
     ]
    },
    {
     "data": {
      "text/plain": [
       "True"
      ]
     },
     "execution_count": 40,
     "metadata": {},
     "output_type": "execute_result"
    }
   ],
   "source": [
    "nltk.download('wordnet')"
   ]
  },
  {
   "cell_type": "code",
   "execution_count": 41,
   "id": "be2c2826",
   "metadata": {},
   "outputs": [],
   "source": [
    "#importing the Lemmatizer function from nltk library\n",
    "from nltk.stem import WordNetLemmatizer"
   ]
  },
  {
   "cell_type": "code",
   "execution_count": 42,
   "id": "bc43ba12",
   "metadata": {},
   "outputs": [],
   "source": [
    "#defining the object for Lemmatization\n",
    "wordnet_lemmatizer = WordNetLemmatizer()"
   ]
  },
  {
   "cell_type": "code",
   "execution_count": 47,
   "id": "f7f9982c",
   "metadata": {},
   "outputs": [],
   "source": [
    "# Function for lemmatization\n",
    "def lemmatizer(text):\n",
    "    lemmatizer = WordNetLemmatizer()\n",
    "    return ' '.join([lemmatizer.lemmatize(word) for word in text])"
   ]
  },
  {
   "cell_type": "code",
   "execution_count": 48,
   "id": "a6dfbe64",
   "metadata": {},
   "outputs": [
    {
     "name": "stdout",
     "output_type": "stream",
     "text": [
      "                                     Original Text  \\\n",
      "0          I love playing football on the weekends   \n",
      "1      I enjoy hiking and camping in the mountains   \n",
      "2            I like to read books and watch movies   \n",
      "3         I prefer playing video games over sports   \n",
      "4  I love listening to music and going to concerts   \n",
      "\n",
      "                          Text Without Punctuation  \\\n",
      "0          I love playing football on the weekends   \n",
      "1      I enjoy hiking and camping in the mountains   \n",
      "2            I like to read books and watch movies   \n",
      "3         I prefer playing video games over sports   \n",
      "4  I love listening to music and going to concerts   \n",
      "\n",
      "                                 Text in Lowercase  \\\n",
      "0          i love playing football on the weekends   \n",
      "1      i enjoy hiking and camping in the mountains   \n",
      "2            i like to read books and watch movies   \n",
      "3         i prefer playing video games over sports   \n",
      "4  i love listening to music and going to concerts   \n",
      "\n",
      "                              Text without numbers  \\\n",
      "0          i love playing football on the weekends   \n",
      "1      i enjoy hiking and camping in the mountains   \n",
      "2            i like to read books and watch movies   \n",
      "3         i prefer playing video games over sports   \n",
      "4  i love listening to music and going to concerts   \n",
      "\n",
      "                                      Text tokenized  \\\n",
      "0    [i, love, playing, football, on, the, weekends]   \n",
      "1  [i, enjoy, hiking, and, camping, in, the, moun...   \n",
      "2     [i, like, to, read, books, and, watch, movies]   \n",
      "3   [i, prefer, playing, video, games, over, sports]   \n",
      "4  [i, love, listening, to, music, and, going, to...   \n",
      "\n",
      "                       Text without stopword  \\\n",
      "0        [love, playing, football, weekends]   \n",
      "1        [enjoy, hiking, camping, mountains]   \n",
      "2         [like, read, books, watch, movies]   \n",
      "3    [prefer, playing, video, games, sports]   \n",
      "4  [love, listening, music, going, concerts]   \n",
      "\n",
      "                            Text Stem                     Text Lemm  \n",
      "0      [love, play, footbal, weekend]     love play footbal weekend  \n",
      "1       [enjoy, hike, camp, mountain]      enjoy hike camp mountain  \n",
      "2     [like, read, book, watch, movi]     like read book watch movi  \n",
      "3  [prefer, play, video, game, sport]  prefer play video game sport  \n",
      "4  [love, listen, music, go, concert]  love listen music go concert  \n"
     ]
    }
   ],
   "source": [
    "# Apply the functions, convert to lowercase, and tokenize\n",
    "data_no_punctuation = [remove_punctuation(sentence) for sentence in data]\n",
    "data_lower = [sentence.lower() for sentence in data_no_punctuation]\n",
    "data_remove_number = [remove_numbers(sentence) for sentence in data_lower]\n",
    "data_token = [word_tokenize(sentence) for sentence in data_remove_number]\n",
    "data_remove_stopword = [remove_stopwords(sentence) for sentence in data_token]\n",
    "data_stem = [stemming(sentence) for sentence in data_remove_stopword]\n",
    "data_lemm = [lemmatizer(sentence) for sentence in data_stem]\n",
    "\n",
    "# Create a DataFrame\n",
    "df = pd.DataFrame({\n",
    "    'Original Text': data,\n",
    "    'Text Without Punctuation': data_no_punctuation,\n",
    "    'Text in Lowercase': data_lower,\n",
    "    'Text without numbers': data_remove_number,\n",
    "    'Text tokenized': data_token,\n",
    "    'Text without stopword': data_remove_stopword,\n",
    "    'Text Stem': data_stem,\n",
    "    'Text Lemm': data_lemm\n",
    "})\n",
    "\n",
    "print(df)"
   ]
  },
  {
   "cell_type": "code",
   "execution_count": 66,
   "id": "96d4924c",
   "metadata": {},
   "outputs": [
    {
     "name": "stdout",
     "output_type": "stream",
     "text": [
      "(5, 21)\n"
     ]
    }
   ],
   "source": [
    "# Apply TF-IDF vectorizer to lemmatized data\n",
    "vectorizer = TfidfVectorizer() \n",
    "X = vectorizer.fit_transform(data_lemm)\n",
    "\n",
    "print(X.shape)"
   ]
  },
  {
   "cell_type": "code",
   "execution_count": 67,
   "id": "0881412f",
   "metadata": {},
   "outputs": [
    {
     "data": {
      "text/html": [
       "<style>#sk-container-id-3 {color: black;}#sk-container-id-3 pre{padding: 0;}#sk-container-id-3 div.sk-toggleable {background-color: white;}#sk-container-id-3 label.sk-toggleable__label {cursor: pointer;display: block;width: 100%;margin-bottom: 0;padding: 0.3em;box-sizing: border-box;text-align: center;}#sk-container-id-3 label.sk-toggleable__label-arrow:before {content: \"▸\";float: left;margin-right: 0.25em;color: #696969;}#sk-container-id-3 label.sk-toggleable__label-arrow:hover:before {color: black;}#sk-container-id-3 div.sk-estimator:hover label.sk-toggleable__label-arrow:before {color: black;}#sk-container-id-3 div.sk-toggleable__content {max-height: 0;max-width: 0;overflow: hidden;text-align: left;background-color: #f0f8ff;}#sk-container-id-3 div.sk-toggleable__content pre {margin: 0.2em;color: black;border-radius: 0.25em;background-color: #f0f8ff;}#sk-container-id-3 input.sk-toggleable__control:checked~div.sk-toggleable__content {max-height: 200px;max-width: 100%;overflow: auto;}#sk-container-id-3 input.sk-toggleable__control:checked~label.sk-toggleable__label-arrow:before {content: \"▾\";}#sk-container-id-3 div.sk-estimator input.sk-toggleable__control:checked~label.sk-toggleable__label {background-color: #d4ebff;}#sk-container-id-3 div.sk-label input.sk-toggleable__control:checked~label.sk-toggleable__label {background-color: #d4ebff;}#sk-container-id-3 input.sk-hidden--visually {border: 0;clip: rect(1px 1px 1px 1px);clip: rect(1px, 1px, 1px, 1px);height: 1px;margin: -1px;overflow: hidden;padding: 0;position: absolute;width: 1px;}#sk-container-id-3 div.sk-estimator {font-family: monospace;background-color: #f0f8ff;border: 1px dotted black;border-radius: 0.25em;box-sizing: border-box;margin-bottom: 0.5em;}#sk-container-id-3 div.sk-estimator:hover {background-color: #d4ebff;}#sk-container-id-3 div.sk-parallel-item::after {content: \"\";width: 100%;border-bottom: 1px solid gray;flex-grow: 1;}#sk-container-id-3 div.sk-label:hover label.sk-toggleable__label {background-color: #d4ebff;}#sk-container-id-3 div.sk-serial::before {content: \"\";position: absolute;border-left: 1px solid gray;box-sizing: border-box;top: 0;bottom: 0;left: 50%;z-index: 0;}#sk-container-id-3 div.sk-serial {display: flex;flex-direction: column;align-items: center;background-color: white;padding-right: 0.2em;padding-left: 0.2em;position: relative;}#sk-container-id-3 div.sk-item {position: relative;z-index: 1;}#sk-container-id-3 div.sk-parallel {display: flex;align-items: stretch;justify-content: center;background-color: white;position: relative;}#sk-container-id-3 div.sk-item::before, #sk-container-id-3 div.sk-parallel-item::before {content: \"\";position: absolute;border-left: 1px solid gray;box-sizing: border-box;top: 0;bottom: 0;left: 50%;z-index: -1;}#sk-container-id-3 div.sk-parallel-item {display: flex;flex-direction: column;z-index: 1;position: relative;background-color: white;}#sk-container-id-3 div.sk-parallel-item:first-child::after {align-self: flex-end;width: 50%;}#sk-container-id-3 div.sk-parallel-item:last-child::after {align-self: flex-start;width: 50%;}#sk-container-id-3 div.sk-parallel-item:only-child::after {width: 0;}#sk-container-id-3 div.sk-dashed-wrapped {border: 1px dashed gray;margin: 0 0.4em 0.5em 0.4em;box-sizing: border-box;padding-bottom: 0.4em;background-color: white;}#sk-container-id-3 div.sk-label label {font-family: monospace;font-weight: bold;display: inline-block;line-height: 1.2em;}#sk-container-id-3 div.sk-label-container {text-align: center;}#sk-container-id-3 div.sk-container {/* jupyter's `normalize.less` sets `[hidden] { display: none; }` but bootstrap.min.css set `[hidden] { display: none !important; }` so we also need the `!important` here to be able to override the default hidden behavior on the sphinx rendered scikit-learn.org. See: https://github.com/scikit-learn/scikit-learn/issues/21755 */display: inline-block !important;position: relative;}#sk-container-id-3 div.sk-text-repr-fallback {display: none;}</style><div id=\"sk-container-id-3\" class=\"sk-top-container\"><div class=\"sk-text-repr-fallback\"><pre>KMeans(n_clusters=2)</pre><b>In a Jupyter environment, please rerun this cell to show the HTML representation or trust the notebook. <br />On GitHub, the HTML representation is unable to render, please try loading this page with nbviewer.org.</b></div><div class=\"sk-container\" hidden><div class=\"sk-item\"><div class=\"sk-estimator sk-toggleable\"><input class=\"sk-toggleable__control sk-hidden--visually\" id=\"sk-estimator-id-3\" type=\"checkbox\" checked><label for=\"sk-estimator-id-3\" class=\"sk-toggleable__label sk-toggleable__label-arrow\">KMeans</label><div class=\"sk-toggleable__content\"><pre>KMeans(n_clusters=2)</pre></div></div></div></div></div>"
      ],
      "text/plain": [
       "KMeans(n_clusters=2)"
      ]
     },
     "execution_count": 67,
     "metadata": {},
     "output_type": "execute_result"
    }
   ],
   "source": [
    "k = 2  # Define the number of clusters \n",
    "km = KMeans(n_clusters=k) \n",
    "km.fit(X) "
   ]
  },
  {
   "cell_type": "code",
   "execution_count": 68,
   "id": "78c7aea8",
   "metadata": {},
   "outputs": [],
   "source": [
    "# Predict the clusters for each document \n",
    "y_pred = km.predict(X) "
   ]
  },
  {
   "cell_type": "code",
   "execution_count": 69,
   "id": "a2a275b8",
   "metadata": {},
   "outputs": [
    {
     "name": "stdout",
     "output_type": "stream",
     "text": [
      "Document                        Predicted Cluster\n",
      "----------------------------  -------------------\n",
      "love play footbal weekend                       1\n",
      "enjoy hike camp mountain                        0\n",
      "like read book watch movi                       0\n",
      "prefer play video game sport                    0\n",
      "love listen music go concert                    1\n"
     ]
    }
   ],
   "source": [
    "# Display the document and its predicted cluster in a table \n",
    "table_data = [[\"Document\", \"Predicted Cluster\"]] \n",
    "table_data.extend([[doc, cluster] for doc, cluster in zip(data_lemm, y_pred)]) \n",
    "print(tabulate(table_data, headers=\"firstrow\")) "
   ]
  },
  {
   "cell_type": "code",
   "execution_count": 70,
   "id": "89fc3bd5",
   "metadata": {},
   "outputs": [
    {
     "name": "stdout",
     "output_type": "stream",
     "text": [
      "\n",
      "Top terms per cluster:\n",
      "Cluster 0:\n",
      " camp\n",
      "\n",
      " mountain\n",
      "\n",
      " hike\n",
      "\n",
      " enjoy\n",
      "\n",
      " video\n",
      "\n",
      " sport\n",
      "\n",
      " prefer\n",
      "\n",
      " game\n",
      "\n",
      " book\n",
      "\n",
      " read\n",
      "\n",
      "Cluster 1:\n",
      " love\n",
      "\n",
      " footbal\n",
      "\n",
      " weekend\n",
      "\n",
      " go\n",
      "\n",
      " music\n",
      "\n",
      " concert\n",
      "\n",
      " listen\n",
      "\n",
      " play\n",
      "\n",
      " sport\n",
      "\n",
      " camp\n",
      "\n"
     ]
    }
   ],
   "source": [
    "# Print top terms per cluster \n",
    "print(\"\\nTop terms per cluster:\") \n",
    "order_centroids = km.cluster_centers_.argsort()[:, ::-1] \n",
    "terms = vectorizer.get_feature_names_out() \n",
    "for i in range(k): \n",
    "    print(\"Cluster %d:\" % i) \n",
    "    for ind in order_centroids[i, :10]: \n",
    "        print(' %s' % terms[ind]) \n",
    "        print()"
   ]
  },
  {
   "cell_type": "code",
   "execution_count": 71,
   "id": "6d826f6a",
   "metadata": {},
   "outputs": [
    {
     "name": "stdout",
     "output_type": "stream",
     "text": [
      "Purity: 0.6\n"
     ]
    }
   ],
   "source": [
    "# Calculate purity \n",
    "total_samples = len(y_pred) \n",
    "cluster_label_counts = [Counter(y_pred)] \n",
    "purity = sum(max(cluster.values()) for cluster in cluster_label_counts) / total_samples \n",
    "print(\"Purity:\", purity) "
   ]
  },
  {
   "cell_type": "code",
   "execution_count": null,
   "id": "54ec6070",
   "metadata": {},
   "outputs": [],
   "source": []
  }
 ],
 "metadata": {
  "kernelspec": {
   "display_name": "Python 3 (ipykernel)",
   "language": "python",
   "name": "python3"
  },
  "language_info": {
   "codemirror_mode": {
    "name": "ipython",
    "version": 3
   },
   "file_extension": ".py",
   "mimetype": "text/x-python",
   "name": "python",
   "nbconvert_exporter": "python",
   "pygments_lexer": "ipython3",
   "version": "3.11.5"
  }
 },
 "nbformat": 4,
 "nbformat_minor": 5
}
